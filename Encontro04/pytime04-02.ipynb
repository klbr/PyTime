{
 "cells": [
  {
   "cell_type": "code",
   "execution_count": 102,
   "metadata": {},
   "outputs": [],
   "source": [
    "target = 'Hello World!'\n",
    "genset = ' abcdefghijklmnopqrstuvwxyzABCDEFGHIJKLMNOPQRSTUVWXYZ!.'"
   ]
  },
  {
   "cell_type": "code",
   "execution_count": 103,
   "metadata": {},
   "outputs": [],
   "source": [
    "import random"
   ]
  },
  {
   "cell_type": "code",
   "execution_count": 104,
   "metadata": {},
   "outputs": [],
   "source": [
    "def generate_parent(length):\n",
    "    genes = []\n",
    "    while len(genes) < length:\n",
    "        sampleSize = min(length - len(genes), len(genset))\n",
    "        genes.extend(random.sample(genset, sampleSize))\n",
    "    return ''.join(genes)"
   ]
  },
  {
   "cell_type": "code",
   "execution_count": 105,
   "metadata": {},
   "outputs": [
    {
     "name": "stdout",
     "output_type": "stream",
     "text": [
      "u.ywR\n"
     ]
    }
   ],
   "source": [
    "print(generate_parent(5))"
   ]
  },
  {
   "cell_type": "code",
   "execution_count": 106,
   "metadata": {},
   "outputs": [],
   "source": [
    "def get_fitness(guess):\n",
    "    value = sum(1 for expected, actual in zip(target, guess) if expected == actual)\n",
    "    return (value / len(target)) * 100"
   ]
  },
  {
   "cell_type": "code",
   "execution_count": 107,
   "metadata": {},
   "outputs": [
    {
     "data": {
      "text/plain": [
       "(41.66666666666667, 8.333333333333332)"
      ]
     },
     "execution_count": 107,
     "metadata": {},
     "output_type": "execute_result"
    }
   ],
   "source": [
    "get_fitness('Hello'), get_fitness('Howdy')"
   ]
  },
  {
   "cell_type": "code",
   "execution_count": 108,
   "metadata": {},
   "outputs": [],
   "source": [
    "def mutate(parent):\n",
    "    index = random.randrange(0, len(parent))\n",
    "    childGenes = list(parent)\n",
    "    newGene, alternate = random.sample(genset, 2)    \n",
    "    childGenes[index] = alternate if newGene == childGenes[index] else newGene\n",
    "    return ''.join(childGenes)"
   ]
  },
  {
   "cell_type": "code",
   "execution_count": 109,
   "metadata": {},
   "outputs": [
    {
     "data": {
      "text/plain": [
       "'Iowdy'"
      ]
     },
     "execution_count": 109,
     "metadata": {},
     "output_type": "execute_result"
    }
   ],
   "source": [
    "mutate('Howdy')"
   ]
  },
  {
   "cell_type": "code",
   "execution_count": 110,
   "metadata": {},
   "outputs": [],
   "source": [
    "import datetime"
   ]
  },
  {
   "cell_type": "code",
   "execution_count": 111,
   "metadata": {},
   "outputs": [],
   "source": [
    "def display(guess, startTime):\n",
    "    timeDiff = datetime.datetime.now() - startTime\n",
    "    fitness = get_fitness(guess)\n",
    "    print(\"{0}\\t{1}\\t{2}\".format(guess, fitness, str(timeDiff)))"
   ]
  },
  {
   "cell_type": "code",
   "execution_count": 112,
   "metadata": {},
   "outputs": [],
   "source": [
    "startedAt = datetime.datetime.now()"
   ]
  },
  {
   "cell_type": "code",
   "execution_count": 113,
   "metadata": {},
   "outputs": [
    {
     "name": "stdout",
     "output_type": "stream",
     "text": [
      "Howdy\t8.333333333333332\t0:00:00.642003\n"
     ]
    }
   ],
   "source": [
    "display('Howdy', startedAt)"
   ]
  },
  {
   "cell_type": "code",
   "execution_count": 116,
   "metadata": {},
   "outputs": [
    {
     "name": "stdout",
     "output_type": "stream",
     "text": [
      "MmEhiKYsLb.!\t8.333333333333332\t0:00:00\n"
     ]
    }
   ],
   "source": [
    "random.seed()\n",
    "it_count = 0\n",
    "startedAt = datetime.datetime.now()\n",
    "bestParent = generate_parent(len(target))\n",
    "bestFitness = get_fitness(bestParent)\n",
    "display(bestParent, startedAt)"
   ]
  },
  {
   "cell_type": "code",
   "execution_count": 117,
   "metadata": {},
   "outputs": [
    {
     "name": "stdout",
     "output_type": "stream",
     "text": [
      "MmEhi YsLb.!\t16.666666666666664\t0:00:00.351863\n",
      "MmEhi YsLbd!\t25.0\t0:00:00.357847\n",
      "Mmlhi YsLbd!\t33.33333333333333\t0:00:00.358844\n",
      "Mmlhi Ysrbd!\t41.66666666666667\t0:00:00.359841\n",
      "Mmlhi Yorbd!\t50.0\t0:00:00.362835\n",
      "Mmlhi Worbd!\t58.333333333333336\t0:00:00.363831\n",
      "Mmlho Worbd!\t66.66666666666666\t0:00:00.363831\n",
      "Mmlho World!\t75.0\t0:00:00.369816\n",
      "Hmlho World!\t83.33333333333334\t0:00:00.370813\n",
      "Hmllo World!\t91.66666666666666\t0:00:00.377793\n",
      "Hello World!\t100.0\t0:00:00.379787\n"
     ]
    }
   ],
   "source": [
    "while True:\n",
    "    it_count += 1\n",
    "    child = mutate(bestParent)\n",
    "    childFitness = get_fitness(child)    \n",
    "    if bestFitness >= childFitness:        \n",
    "        continue\n",
    "    display(child, startedAt)\n",
    "    if childFitness >= 100.0:\n",
    "        break\n",
    "    bestFitness = childFitness\n",
    "    bestParent = child"
   ]
  },
  {
   "cell_type": "code",
   "execution_count": 118,
   "metadata": {},
   "outputs": [
    {
     "name": "stdout",
     "output_type": "stream",
     "text": [
      "1874\n"
     ]
    }
   ],
   "source": [
    "print(it_count)"
   ]
  },
  {
   "cell_type": "code",
   "execution_count": null,
   "metadata": {},
   "outputs": [],
   "source": []
  }
 ],
 "metadata": {
  "kernelspec": {
   "display_name": "Python 3",
   "language": "python",
   "name": "python3"
  },
  "language_info": {
   "codemirror_mode": {
    "name": "ipython",
    "version": 3
   },
   "file_extension": ".py",
   "mimetype": "text/x-python",
   "name": "python",
   "nbconvert_exporter": "python",
   "pygments_lexer": "ipython3",
   "version": "3.6.5"
  }
 },
 "nbformat": 4,
 "nbformat_minor": 2
}
